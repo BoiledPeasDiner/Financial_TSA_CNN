{
 "cells": [
  {
   "cell_type": "code",
   "execution_count": null,
   "id": "bdffa17c",
   "metadata": {},
   "outputs": [
    {
     "data": {
      "text/plain": [
       "{10: 4}"
      ]
     },
     "execution_count": 1,
     "metadata": {},
     "output_type": "execute_result"
    }
   ],
   "source": [
    "# === Imports ===\n",
    "import os\n",
    "from pathlib import Path\n",
    "import numpy as np\n",
    "import pandas as pd\n",
    "import matplotlib.pyplot as plt\n",
    "import mplfinance as mpf\n",
    "from tqdm import tqdm\n",
    "\n",
    "# === Params ===\n",
    "DATA_CSV = Path(\"./price.csv\")                 # 旧: /Users/ohno/... を廃止\n",
    "OUT_ROOT = Path(\"./images/stride/60day-win\")            # 出力のルート\n",
    "SPAN = 60                                           # 表示日数（提案法は60日）\n",
    "# TAUS = [1, 3, 10]                                   # τの候補\n",
    "TAUS = [10]                                   # τの候補\n",
    "\n",
    "\n",
    "RSI_PERIOD = 14                                     # RSIの期間\n",
    "FIG_DPI = 100\n",
    "FIGSIZE_INCH = (224/FIG_DPI, 224/FIG_DPI)           # 224x224px相当（後段でResizeするなら任意）\n",
    "\n",
    "# (N−1)τ=30 → Nを事前に持っておくと便利\n",
    "N_for_tau = {tau: (30 // tau) + 1 for tau in TAUS}  # {1:31, 3:11, 10:4}\n",
    "N_for_tau\n"
   ]
  },
  {
   "cell_type": "code",
   "execution_count": 2,
   "id": "4824732e",
   "metadata": {},
   "outputs": [
    {
     "name": "stdout",
     "output_type": "stream",
     "text": [
      "(4961, 7) ['Open', 'High', 'Low', 'Close', 'SMA5', 'SMA25', 'RSI']\n"
     ]
    }
   ],
   "source": [
    "# === Load price.csv ===\n",
    "df = pd.read_csv(DATA_CSV, index_col='Date', parse_dates=True)\n",
    "df = df.sort_index()             # 念のため日付昇順に整列\n",
    "df = df[['Open','High','Low','Close'] + [c for c in ['SMA5','SMA25','RSI'] if c in df.columns]]\n",
    "\n",
    "# === テクニカルが無ければこのセルで作る（dataset.ipynb と整合） ===\n",
    "need_sma5  = 'SMA5'  not in df.columns\n",
    "need_sma25 = 'SMA25' not in df.columns\n",
    "need_rsi   = 'RSI'   not in df.columns\n",
    "\n",
    "if need_sma5:\n",
    "    df['SMA5'] = df['Close'].rolling(window=5, min_periods=5).mean()\n",
    "if need_sma25:\n",
    "    df['SMA25'] = df['Close'].rolling(window=25, min_periods=25).mean()\n",
    "\n",
    "if need_rsi:\n",
    "    # RSI(14): 上昇分/下落分を分けて14SMAし、RSI = 100 * up / (up + down)\n",
    "    diff = df['Close'].diff()\n",
    "    up   = diff.clip(lower=0.0)\n",
    "    down = (-diff).clip(lower=0.0)\n",
    "    up_sma   = up.rolling(RSI_PERIOD, min_periods=RSI_PERIOD).mean()\n",
    "    down_sma = down.rolling(RSI_PERIOD, min_periods=RSI_PERIOD).mean()\n",
    "    df['RSI'] = 100.0 * (up_sma / (up_sma + down_sma))\n",
    "\n",
    "df = df.dropna().copy()  # 描画に必要な列の欠損を落としてから使う\n",
    "print(df.shape, df.columns.tolist())\n"
   ]
  },
  {
   "cell_type": "code",
   "execution_count": 3,
   "id": "2d906089",
   "metadata": {},
   "outputs": [],
   "source": [
    "def save_candle_60d(df_slice, out_path):\n",
    "    # 念のため：必要な列とDatetimeIndexをチェック\n",
    "    assert isinstance(df_slice.index, pd.DatetimeIndex)\n",
    "    for col in ['Open','High','Low','Close','SMA5','SMA25','RSI']:\n",
    "        assert col in df_slice.columns, f\"missing column: {col}\"\n",
    "\n",
    "    add_plots = [\n",
    "        mpf.make_addplot(df_slice['SMA5'],  panel=0, color='orange',  width=0.8),\n",
    "        mpf.make_addplot(df_slice['SMA25'], panel=0, color='blue',    width=0.8),\n",
    "        mpf.make_addplot(df_slice['RSI'],   panel=1, color='black',   width=0.8),\n",
    "    ]\n",
    "\n",
    "    mpf.plot(\n",
    "        df_slice,\n",
    "        type=\"candle\",\n",
    "        style=\"classic\",\n",
    "        figsize=FIGSIZE_INCH,      # (幅, 高さ)インチ\n",
    "        tight_layout=True,\n",
    "        axisoff=True,              # 軸非表示（環境によっては未対応。次の修正Bを参照）\n",
    "        addplot=add_plots,\n",
    "        savefig={'fname': str(out_path), 'dpi': FIG_DPI}  # ← ここでdpiを指定\n",
    "    )\n"
   ]
  },
  {
   "cell_type": "code",
   "execution_count": null,
   "id": "2a2dcd51",
   "metadata": {},
   "outputs": [
    {
     "name": "stdout",
     "output_type": "stream",
     "text": [
      "[tau=10] N=4  ->  out=images\\stride\\60day\\10stride\n"
     ]
    },
    {
     "name": "stderr",
     "output_type": "stream",
     "text": [
      "tau=10:  97%|█████████▋| 4705/4871 [37:35<01:33,  1.78it/s]  "
     ]
    }
   ],
   "source": [
    "OUT_ROOT.mkdir(parents=True, exist_ok=True)\n",
    "dates = df.index.strftime('%Y-%m-%d').to_list()\n",
    "num = len(df)\n",
    "\n",
    "for tau in TAUS:\n",
    "    N = N_for_tau[tau]                   # 1→31, 3→11, 10→4\n",
    "    out_tau = OUT_ROOT / f\"{tau}stride\"\n",
    "    out_tau.mkdir(parents=True, exist_ok=True)\n",
    "    print(f\"[tau={tau}] N={N}  ->  out={out_tau}\")\n",
    "\n",
    "    # i は「セットの開始インデックス」\n",
    "    # 最後の画像の終端が num-1 を越えないように、 i の上限を調整\n",
    "    #   最後の画像の終端 = i + (N-1)*tau + (SPAN-1)  <= num-1\n",
    "    #   i <= num - SPAN - (N-1)*tau\n",
    "    i_max = num - SPAN - (N-1)*tau\n",
    "    for i in tqdm(range(i_max), desc=f\"tau={tau}\"):\n",
    "        # セット全体のフォルダ名（例：2018-01-05~2018-04-19）\n",
    "        set_start = dates[i]\n",
    "        set_end   = dates[i + (N-1)*tau + (SPAN-1)]\n",
    "        set_dir = out_tau / f\"{set_start}~{set_end}\"\n",
    "        set_dir.mkdir(parents=True, exist_ok=True)\n",
    "\n",
    "        # k=0, tau, 2*tau, ... で N枚の60日画像を作る\n",
    "        for k in range(0, (N-1)*tau + 1, tau):\n",
    "            s = i + k                # 開始\n",
    "            e = s + SPAN             # 終了はスライスの終端（非含む）\n",
    "            window = df.iloc[s:e]    # ilocで位置スライス（60行のはず）\n",
    "            # 例：tau=10, N=4 のとき:\n",
    "            #  k=0  : [i           , i+60)\n",
    "            #  k=10 : [i+10        , i+70)\n",
    "            #  k=20 : [i+20        , i+80)\n",
    "            #  k=30 : [i+30        , i+90)\n",
    "\n",
    "            # ファイル名に k をゼロ埋めして「並び順」を保証\n",
    "            fname = f\"{k:02d}_{dates[s]}~{dates[e-1]}.png\"\n",
    "            save_candle_60d(window, set_dir / fname)\n"
   ]
  },
  {
   "cell_type": "code",
   "execution_count": null,
   "id": "89e290e4",
   "metadata": {},
   "outputs": [],
   "source": [
    "# 例: tau=10 の最初のセットの枚数を確認\n",
    "check_dir = next((OUT_ROOT / \"10stride\").glob(\"*\"))\n",
    "pngs = sorted(check_dir.glob(\"*.png\"))\n",
    "print(check_dir, len(pngs), \"files ->\", [p.name for p in pngs[:4]])\n"
   ]
  },
  {
   "cell_type": "code",
   "execution_count": null,
   "id": "df2044c2",
   "metadata": {},
   "outputs": [],
   "source": []
  },
  {
   "cell_type": "code",
   "execution_count": null,
   "id": "06855fbc",
   "metadata": {},
   "outputs": [],
   "source": []
  }
 ],
 "metadata": {
  "kernelspec": {
   "display_name": "base",
   "language": "python",
   "name": "python3"
  },
  "language_info": {
   "codemirror_mode": {
    "name": "ipython",
    "version": 3
   },
   "file_extension": ".py",
   "mimetype": "text/x-python",
   "name": "python",
   "nbconvert_exporter": "python",
   "pygments_lexer": "ipython3",
   "version": "3.12.7"
  }
 },
 "nbformat": 4,
 "nbformat_minor": 5
}
